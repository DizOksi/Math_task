{
 "cells": [
  {
   "cell_type": "code",
   "execution_count": 2,
   "metadata": {},
   "outputs": [
    {
     "name": "stdout",
     "output_type": "stream",
     "text": [
      "50.0\n"
     ]
    }
   ],
   "source": [
    "c = int(input(\"Введите значение стороны c' треугольника: \"))\n",
    "j = int(input(\"Введите значение стороны j' треугольника: \"))\n",
    "#c = int(c)\n",
    "#j = int\n",
    "\n",
    "#g = c + j\n",
    "p = (c+j)/2 \n",
    "print(p)\n"
   ]
  },
  {
   "cell_type": "code",
   "execution_count": 9,
   "metadata": {},
   "outputs": [
    {
     "name": "stdout",
     "output_type": "stream",
     "text": [
      "0.0078125\n",
      "2.0000000929222947\n",
      "3.000000001396984\n"
     ]
    }
   ],
   "source": [
    "def newton_sqrt(x, epsilon=1e-4):\n",
    "\n",
    "\n",
    "    z = 1.0\n",
    "    \n",
    "    while abs(z*z - x) >= epsilon:\n",
    "\n",
    "        \n",
    "\n",
    "        z -= (z*z - x) / (2*z)\n",
    "\n",
    "    return z\n",
    "#a = pow()\n",
    "print(newton_sqrt(0)) \n",
    "print(newton_sqrt(4))\n",
    "print(newton_sqrt(9))"
   ]
  },
  {
   "cell_type": "code",
   "execution_count": 4,
   "metadata": {},
   "outputs": [],
   "source": [
    "x = 3.000004151234\n",
    "b = 3.000041241512\n",
    "x1 = \"x: %.4f\" % x\n",
    "x2 = \"b: %.4f\" % b\n",
    "if  x1 == x2:\n",
    "    print(x1)"
   ]
  },
  {
   "cell_type": "code",
   "execution_count": null,
   "metadata": {},
   "outputs": [],
   "source": []
  }
 ],
 "metadata": {
  "kernelspec": {
   "display_name": ".venv",
   "language": "python",
   "name": "python3"
  },
  "language_info": {
   "codemirror_mode": {
    "name": "ipython",
    "version": 3
   },
   "file_extension": ".py",
   "mimetype": "text/x-python",
   "name": "python",
   "nbconvert_exporter": "python",
   "pygments_lexer": "ipython3",
   "version": "3.10.12"
  }
 },
 "nbformat": 4,
 "nbformat_minor": 2
}
